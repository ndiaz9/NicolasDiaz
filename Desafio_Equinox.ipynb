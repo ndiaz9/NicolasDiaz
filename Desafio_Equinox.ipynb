{
 "cells": [
  {
   "cell_type": "markdown",
   "metadata": {},
   "source": [
    "\n",
    "<h2 style=\"text-align: center;\">Desafío Equinox AI and Data Lab </h2>\n",
    "\n",
    "\n",
    "\n"
   ]
  },
  {
   "cell_type": "markdown",
   "metadata": {
    "tags": []
   },
   "source": [
    "Saludos aspirante:\n",
    "Estás a punto de comenzar un reto para demostrar que puedes ser parte de Equinox.\n",
    "\n",
    "Lee con atención las instrucciones para que puedas llevar a cabo tu prueba:\n",
    "\n",
    "El Desafío Equinox **evaluará 4 aspectos básicos** que se requieren a la hora de elegir a un perfil. \n",
    "Por lo tanto la prueba estará dividida en **4 partes**.\n",
    "\n",
    "- La primera parte evaluará tus conocimientos en **análisis y tratamiento de información**, esto junto a tu habilidad técnica en jupyter Notebooks, Python y demás librerias requeridas en Data analysis.\n",
    "\n",
    "- La segunda parte esta orientada a conocer tu desempeño en la construcción de modelos de **Machine Learning**, Ten en cuenta seguir el pipeline completo para demostrar que tu modelo tiene un correcto desempeño.\n",
    "\n",
    "- La tercera parte es un ejercicio orientado a evaluar tus **capacidades en SQL**. Consta de tres preguntas de negocio con la cuales queremos observar tu habilidad en el lenguaje.\n",
    "\n",
    "- La cuarta parte es un ejercicio de **comunicación**, en donde serás entrevistado por líderes del área y tendrás que contarnos sobre el modo en que abordaste el desafío."
   ]
  },
  {
   "cell_type": "markdown",
   "metadata": {},
   "source": [
    "<h4>Reglas para el desafío</h4>\n",
    "\n",
    "- El desafío podrá ser resuelto en aproximadamente 3 días, **comenzando el viernes 20 de Mayo a las 2:00 pm  y terminará el Lunes 23 de Mayo a las 01:00 pm** .\n",
    "\n",
    "- Es necesario contar con una cuenta de github para poder descargar el contenido del desafío y subir tus respuestas. Si no tienes una cuenta puedes dirigirte al sitio https://github.com/ y crear una.\n",
    "\n",
    "- Para la primera y segunda parte se utilizarán Jupyter Notebooks, Python y sus librerías orientadas a análisis de Datos y Machine Learning. Asegúrate de tener instaladas estas herramientas en tu equipo antes del lanzamiento del desafío para que puedas dedicar tus esfuerzos a resolver los problemas.\n",
    "\n",
    "- La tercera parte tomará la base de datos que esta alojada en https://www.w3schools.com/sql/trysql.asp?filename=trysql_select_all como referencia para las preguntas planteadas. Allí encontrarás una pequeña base de datos y un sandbox donde podrás probar tus queries.\n",
    "\n",
    "- Todo lo que construyas debe estár en un Jupyter Notebook, La primera y segunda parte deben correr dentro del notebook, mientras que para la tercera parte, solamente debes colocar los queries que resuelvan las preguntas de esta parte. **Asegurate de ser ordenado** para que nuestro proceso de validación pueda ser ágil.\n",
    "\n",
    "- Asegúrate de dar fork al repositorio https://github.com/EquinoxAI/desafio_equinox con tu nombre y apellido. **Ten en cuenta siempre  dar commit y subir archivos, para poder evaluar tu prueba.**\n",
    "![example1](img/fork1.png)\n",
    "![example2](img/fork2.png)\n",
    "\n",
    "- Debes estar atento las próximas semanas para realizar una entrevista, en la cuál deberás sustentar temas puntuales de tu prueba.\n",
    "\n",
    "\n",
    "Desde Equinox te deseamos muchos éxitos en este gran desafío y esperamos que des lo mejor de tí.\n",
    "\n",
    "Te esperamos.\n",
    "\n",
    "\n"
   ]
  },
  {
   "cell_type": "markdown",
   "metadata": {},
   "source": [
    "<h4> Primera Parte: Análisis y tratamiento de información </h4>\n",
    "\n",
    "- Tomando como referencia el archivo **kc_house_data.csv** responde las siguientes preguntas:\n",
    "\n",
    "    - ¿Cuántos registros y columnas esta compuesto el dataset?\n",
    "    - ¿Qué años componen el dataset y que cantidad de registros hay para cada año?\n",
    "    - ¿Cuál es la media de habitaciones de las propiedades que conforman el dataset?\n",
    "    - ¿Cuál es el precio promedio de alquilar una casa  de 3 pisos o más?\n",
    "    - ¿Cuántos pisos posée la casa cuyo número de habitaciones es igual a 33?\n",
    "    - ¿Cuántas propiedades son del año 2015 y tienen un precio mayor a 400000 dólares?\n",
    "    - ¿Cuál es la distribución del número de pisos en el dataset?. Demuéstralo a través de un gráfico de barras ordenado\n",
    "    - ¿Con que tipo de distribución relacionaría el precio de las propiedades cuyo valor es menor o igual a 2000000 dentro del dataset         Demuéstralo con un histograma."
   ]
  },
  {
   "cell_type": "code",
   "execution_count": 1,
   "metadata": {},
   "outputs": [],
   "source": [
    "import pandas as pd\n",
    "import matplotlib.pyplot as plt\n",
    "\n",
    "from sklearn.model_selection import train_test_split\n",
    "from sklearn.metrics import mean_squared_error, mean_absolute_error, r2_score\n",
    "from sklearn.linear_model import LinearRegression\n",
    "from sklearn.preprocessing import PolynomialFeatures\n",
    "from sklearn.neural_network import MLPRegressor"
   ]
  },
  {
   "cell_type": "markdown",
   "metadata": {},
   "source": [
    "Primero se leen los datos"
   ]
  },
  {
   "cell_type": "code",
   "execution_count": 2,
   "metadata": {},
   "outputs": [],
   "source": [
    "data = pd.read_csv('kc_house_data.csv', sep=',')"
   ]
  },
  {
   "cell_type": "code",
   "execution_count": 3,
   "metadata": {},
   "outputs": [
    {
     "data": {
      "text/html": [
       "<div>\n",
       "<style scoped>\n",
       "    .dataframe tbody tr th:only-of-type {\n",
       "        vertical-align: middle;\n",
       "    }\n",
       "\n",
       "    .dataframe tbody tr th {\n",
       "        vertical-align: top;\n",
       "    }\n",
       "\n",
       "    .dataframe thead th {\n",
       "        text-align: right;\n",
       "    }\n",
       "</style>\n",
       "<table border=\"1\" class=\"dataframe\">\n",
       "  <thead>\n",
       "    <tr style=\"text-align: right;\">\n",
       "      <th></th>\n",
       "      <th>id</th>\n",
       "      <th>date</th>\n",
       "      <th>price</th>\n",
       "      <th>bedrooms</th>\n",
       "      <th>bathrooms</th>\n",
       "      <th>sqft_living</th>\n",
       "      <th>sqft_lot</th>\n",
       "      <th>floors</th>\n",
       "      <th>waterfront</th>\n",
       "      <th>view</th>\n",
       "      <th>...</th>\n",
       "      <th>grade</th>\n",
       "      <th>sqft_above</th>\n",
       "      <th>sqft_basement</th>\n",
       "      <th>yr_built</th>\n",
       "      <th>yr_renovated</th>\n",
       "      <th>zipcode</th>\n",
       "      <th>lat</th>\n",
       "      <th>long</th>\n",
       "      <th>sqft_living15</th>\n",
       "      <th>sqft_lot15</th>\n",
       "    </tr>\n",
       "  </thead>\n",
       "  <tbody>\n",
       "    <tr>\n",
       "      <th>0</th>\n",
       "      <td>7129300520</td>\n",
       "      <td>20141013T000000</td>\n",
       "      <td>221900.0</td>\n",
       "      <td>3</td>\n",
       "      <td>1.00</td>\n",
       "      <td>1180</td>\n",
       "      <td>5650</td>\n",
       "      <td>1.0</td>\n",
       "      <td>0</td>\n",
       "      <td>0</td>\n",
       "      <td>...</td>\n",
       "      <td>7</td>\n",
       "      <td>1180</td>\n",
       "      <td>0</td>\n",
       "      <td>1955</td>\n",
       "      <td>0</td>\n",
       "      <td>98178</td>\n",
       "      <td>47.5112</td>\n",
       "      <td>-122.257</td>\n",
       "      <td>1340</td>\n",
       "      <td>5650</td>\n",
       "    </tr>\n",
       "    <tr>\n",
       "      <th>1</th>\n",
       "      <td>6414100192</td>\n",
       "      <td>20141209T000000</td>\n",
       "      <td>538000.0</td>\n",
       "      <td>3</td>\n",
       "      <td>2.25</td>\n",
       "      <td>2570</td>\n",
       "      <td>7242</td>\n",
       "      <td>2.0</td>\n",
       "      <td>0</td>\n",
       "      <td>0</td>\n",
       "      <td>...</td>\n",
       "      <td>7</td>\n",
       "      <td>2170</td>\n",
       "      <td>400</td>\n",
       "      <td>1951</td>\n",
       "      <td>1991</td>\n",
       "      <td>98125</td>\n",
       "      <td>47.7210</td>\n",
       "      <td>-122.319</td>\n",
       "      <td>1690</td>\n",
       "      <td>7639</td>\n",
       "    </tr>\n",
       "    <tr>\n",
       "      <th>2</th>\n",
       "      <td>5631500400</td>\n",
       "      <td>20150225T000000</td>\n",
       "      <td>180000.0</td>\n",
       "      <td>2</td>\n",
       "      <td>1.00</td>\n",
       "      <td>770</td>\n",
       "      <td>10000</td>\n",
       "      <td>1.0</td>\n",
       "      <td>0</td>\n",
       "      <td>0</td>\n",
       "      <td>...</td>\n",
       "      <td>6</td>\n",
       "      <td>770</td>\n",
       "      <td>0</td>\n",
       "      <td>1933</td>\n",
       "      <td>0</td>\n",
       "      <td>98028</td>\n",
       "      <td>47.7379</td>\n",
       "      <td>-122.233</td>\n",
       "      <td>2720</td>\n",
       "      <td>8062</td>\n",
       "    </tr>\n",
       "    <tr>\n",
       "      <th>3</th>\n",
       "      <td>2487200875</td>\n",
       "      <td>20141209T000000</td>\n",
       "      <td>604000.0</td>\n",
       "      <td>4</td>\n",
       "      <td>3.00</td>\n",
       "      <td>1960</td>\n",
       "      <td>5000</td>\n",
       "      <td>1.0</td>\n",
       "      <td>0</td>\n",
       "      <td>0</td>\n",
       "      <td>...</td>\n",
       "      <td>7</td>\n",
       "      <td>1050</td>\n",
       "      <td>910</td>\n",
       "      <td>1965</td>\n",
       "      <td>0</td>\n",
       "      <td>98136</td>\n",
       "      <td>47.5208</td>\n",
       "      <td>-122.393</td>\n",
       "      <td>1360</td>\n",
       "      <td>5000</td>\n",
       "    </tr>\n",
       "    <tr>\n",
       "      <th>4</th>\n",
       "      <td>1954400510</td>\n",
       "      <td>20150218T000000</td>\n",
       "      <td>510000.0</td>\n",
       "      <td>3</td>\n",
       "      <td>2.00</td>\n",
       "      <td>1680</td>\n",
       "      <td>8080</td>\n",
       "      <td>1.0</td>\n",
       "      <td>0</td>\n",
       "      <td>0</td>\n",
       "      <td>...</td>\n",
       "      <td>8</td>\n",
       "      <td>1680</td>\n",
       "      <td>0</td>\n",
       "      <td>1987</td>\n",
       "      <td>0</td>\n",
       "      <td>98074</td>\n",
       "      <td>47.6168</td>\n",
       "      <td>-122.045</td>\n",
       "      <td>1800</td>\n",
       "      <td>7503</td>\n",
       "    </tr>\n",
       "  </tbody>\n",
       "</table>\n",
       "<p>5 rows × 21 columns</p>\n",
       "</div>"
      ],
      "text/plain": [
       "           id             date     price  bedrooms  bathrooms  sqft_living  \\\n",
       "0  7129300520  20141013T000000  221900.0         3       1.00         1180   \n",
       "1  6414100192  20141209T000000  538000.0         3       2.25         2570   \n",
       "2  5631500400  20150225T000000  180000.0         2       1.00          770   \n",
       "3  2487200875  20141209T000000  604000.0         4       3.00         1960   \n",
       "4  1954400510  20150218T000000  510000.0         3       2.00         1680   \n",
       "\n",
       "   sqft_lot  floors  waterfront  view  ...  grade  sqft_above  sqft_basement  \\\n",
       "0      5650     1.0           0     0  ...      7        1180              0   \n",
       "1      7242     2.0           0     0  ...      7        2170            400   \n",
       "2     10000     1.0           0     0  ...      6         770              0   \n",
       "3      5000     1.0           0     0  ...      7        1050            910   \n",
       "4      8080     1.0           0     0  ...      8        1680              0   \n",
       "\n",
       "   yr_built  yr_renovated  zipcode      lat     long  sqft_living15  \\\n",
       "0      1955             0    98178  47.5112 -122.257           1340   \n",
       "1      1951          1991    98125  47.7210 -122.319           1690   \n",
       "2      1933             0    98028  47.7379 -122.233           2720   \n",
       "3      1965             0    98136  47.5208 -122.393           1360   \n",
       "4      1987             0    98074  47.6168 -122.045           1800   \n",
       "\n",
       "   sqft_lot15  \n",
       "0        5650  \n",
       "1        7639  \n",
       "2        8062  \n",
       "3        5000  \n",
       "4        7503  \n",
       "\n",
       "[5 rows x 21 columns]"
      ]
     },
     "execution_count": 3,
     "metadata": {},
     "output_type": "execute_result"
    }
   ],
   "source": [
    "data.head()"
   ]
  },
  {
   "cell_type": "markdown",
   "metadata": {},
   "source": [
    "### ¿Cuántos registros y columnas esta compuesto el dataset?\n",
    "\n",
    "Se tienen 21613 registros y 21 columnas"
   ]
  },
  {
   "cell_type": "code",
   "execution_count": 4,
   "metadata": {},
   "outputs": [
    {
     "data": {
      "text/plain": [
       "(21613, 21)"
      ]
     },
     "execution_count": 4,
     "metadata": {},
     "output_type": "execute_result"
    }
   ],
   "source": [
    "data.shape"
   ]
  },
  {
   "cell_type": "markdown",
   "metadata": {},
   "source": [
    "### ¿Qué años componen el dataset y que cantidad de registros hay para cada año?\n",
    "\n",
    "Las casas han sido construidas entre 1934 y 2014"
   ]
  },
  {
   "cell_type": "code",
   "execution_count": 5,
   "metadata": {},
   "outputs": [
    {
     "data": {
      "text/plain": [
       "2014    559\n",
       "2006    454\n",
       "2005    450\n",
       "2004    433\n",
       "2003    422\n",
       "       ... \n",
       "1933     30\n",
       "1901     29\n",
       "1902     27\n",
       "1935     24\n",
       "1934     21\n",
       "Name: yr_built, Length: 116, dtype: int64"
      ]
     },
     "execution_count": 5,
     "metadata": {},
     "output_type": "execute_result"
    }
   ],
   "source": [
    "pd.value_counts(data['yr_built'])"
   ]
  },
  {
   "cell_type": "markdown",
   "metadata": {},
   "source": [
    "### ¿Cuál es la media de habitaciones de las propiedades que conforman el dataset?\n",
    "\n",
    "La media es de 3.37 habitaciones"
   ]
  },
  {
   "cell_type": "code",
   "execution_count": 6,
   "metadata": {},
   "outputs": [
    {
     "data": {
      "text/plain": [
       "3.37084162309721"
      ]
     },
     "execution_count": 6,
     "metadata": {},
     "output_type": "execute_result"
    }
   ],
   "source": [
    "data['bedrooms'].mean()"
   ]
  },
  {
   "cell_type": "markdown",
   "metadata": {},
   "source": [
    "### ¿Cuál es el precio promedio de alquilar una casa de 3 pisos o más?\n",
    "\n",
    "El precio promedio es de 587.045 dólares"
   ]
  },
  {
   "cell_type": "code",
   "execution_count": 7,
   "metadata": {},
   "outputs": [
    {
     "data": {
      "text/plain": [
       "587045.0273752013"
      ]
     },
     "execution_count": 7,
     "metadata": {},
     "output_type": "execute_result"
    }
   ],
   "source": [
    "data[data['floors'] >= 3]['price'].mean()"
   ]
  },
  {
   "cell_type": "markdown",
   "metadata": {},
   "source": [
    "### ¿Cuántos pisos posee la casa cuyo número de habitaciones es igual a 33?\n",
    "\n",
    "Solo hay una casa con 33 habitaciones, y solo tiene un piso"
   ]
  },
  {
   "cell_type": "code",
   "execution_count": 8,
   "metadata": {},
   "outputs": [
    {
     "data": {
      "text/plain": [
       "15870    1.0\n",
       "Name: floors, dtype: float64"
      ]
     },
     "execution_count": 8,
     "metadata": {},
     "output_type": "execute_result"
    }
   ],
   "source": [
    "data[data['bedrooms'] == 33]['floors']"
   ]
  },
  {
   "cell_type": "markdown",
   "metadata": {},
   "source": [
    "### ¿Cuántas propiedades son del año 2015 y tienen un precio mayor a 400000 dólares?\n",
    "\n",
    "Hay 33 propiedades con esas características"
   ]
  },
  {
   "cell_type": "code",
   "execution_count": 9,
   "metadata": {},
   "outputs": [
    {
     "data": {
      "text/plain": [
       "33"
      ]
     },
     "execution_count": 9,
     "metadata": {},
     "output_type": "execute_result"
    }
   ],
   "source": [
    "len(data[(data['yr_built'] == 2015) & (data['price'] > 400000)])"
   ]
  },
  {
   "cell_type": "markdown",
   "metadata": {},
   "source": [
    "### ¿Cuál es la distribución del número de pisos en el dataset?. Demuéstralo a través de un gráfico de barras ordenado"
   ]
  },
  {
   "cell_type": "code",
   "execution_count": 10,
   "metadata": {},
   "outputs": [
    {
     "data": {
      "image/png": "[encoded data removed]",
      "text/plain": [
       "<Figure size 432x288 with 1 Axes>"
      ]
     },
     "metadata": {
      "needs_background": "light"
     },
     "output_type": "display_data"
    }
   ],
   "source": [
    "%matplotlib inline\n",
    "plt.figure()\n",
    "x = data['floors'].unique()\n",
    "y = data['floors'].value_counts()\n",
    "plt.bar(x,y)\n",
    "plt.title('Distribución de número de pisos')\n",
    "plt.show()"
   ]
  },
  {
   "cell_type": "markdown",
   "metadata": {},
   "source": [
    "### ¿Con que tipo de distribución relacionaría el precio de las propiedades cuyo valor es menor o igual a 2000000 dentro del dataset. Demuéstralo con un histograma.\n",
    "\n",
    "Es una distribución normal sesgada hacia la izquierda"
   ]
  },
  {
   "cell_type": "code",
   "execution_count": 11,
   "metadata": {},
   "outputs": [
    {
     "data": {
      "image/png": "[encoded data removed]",
      "text/plain": [
       "<Figure size 432x288 with 1 Axes>"
      ]
     },
     "metadata": {
      "needs_background": "light"
     },
     "output_type": "display_data"
    }
   ],
   "source": [
    "plt.figure()\n",
    "x = data[data['price'] <= 2000000]['price']\n",
    "plt.hist(x, bins=20)\n",
    "plt.show()"
   ]
  },
  {
   "cell_type": "markdown",
   "metadata": {},
   "source": [
    "<h4> Segunda Parte: Machine Learning </h4>\n",
    "\n",
    "Tomando el dataset de los ejercicios anteriores entrena un modelo que use inteligencia artificial que prediga el precio de propiedades futuras.\n",
    "\n",
    "Ten en cuenta: \n",
    "- Plantear una correcta división del dataset para entrenar y testear. \n",
    "- Usar el modelo correcto.\n",
    "- Métricas de desemempeño.\n",
    "- Construir una función para poder inferir resultados fuera del dataset."
   ]
  },
  {
   "cell_type": "markdown",
   "metadata": {},
   "source": [
    "Se van a comparar tres modelos para el problema de regresión: Regresión Lineal, Regresión Polinomial y un Perceptrón Multicapa. Primero se hace el preprocesamiento:"
   ]
  },
  {
   "cell_type": "markdown",
   "metadata": {},
   "source": [
    "### Limpieza de datos"
   ]
  },
  {
   "cell_type": "code",
   "execution_count": 12,
   "metadata": {},
   "outputs": [
    {
     "data": {
      "text/plain": [
       "id               0\n",
       "date             0\n",
       "price            0\n",
       "bedrooms         0\n",
       "bathrooms        0\n",
       "sqft_living      0\n",
       "sqft_lot         0\n",
       "floors           0\n",
       "waterfront       0\n",
       "view             0\n",
       "condition        0\n",
       "grade            0\n",
       "sqft_above       0\n",
       "sqft_basement    0\n",
       "yr_built         0\n",
       "yr_renovated     0\n",
       "zipcode          0\n",
       "lat              0\n",
       "long             0\n",
       "sqft_living15    0\n",
       "sqft_lot15       0\n",
       "dtype: int64"
      ]
     },
     "execution_count": 12,
     "metadata": {},
     "output_type": "execute_result"
    }
   ],
   "source": [
    "data.isna().sum()"
   ]
  },
  {
   "cell_type": "markdown",
   "metadata": {},
   "source": [
    "No es necesario tratar datos nulos."
   ]
  },
  {
   "cell_type": "code",
   "execution_count": 13,
   "metadata": {},
   "outputs": [
    {
     "data": {
      "text/plain": [
       "0"
      ]
     },
     "execution_count": 13,
     "metadata": {},
     "output_type": "execute_result"
    }
   ],
   "source": [
    "data.duplicated().sum()"
   ]
  },
  {
   "cell_type": "markdown",
   "metadata": {},
   "source": [
    "No es necesario tratar datos duplicados.\n",
    "\n",
    "Para realizar la regresión, se eliminan tres variables poco relevantes para determinar el precio de una propiedad: el ID, la fecha del registro y el Zipcode:"
   ]
  },
  {
   "cell_type": "code",
   "execution_count": 14,
   "metadata": {},
   "outputs": [],
   "source": [
    "data = data.drop(['id','date','zipcode'], axis=1)"
   ]
  },
  {
   "cell_type": "markdown",
   "metadata": {},
   "source": [
    "### Modelo 1: Regresión Lineal\n",
    "\n",
    "#### Construcción de conjuntos de entrenamiento y test\n",
    "\n",
    "Se separa la variable objetivo, el precio, de las variables independientes:"
   ]
  },
  {
   "cell_type": "code",
   "execution_count": 15,
   "metadata": {},
   "outputs": [],
   "source": [
    "x = data.drop(['price'], axis=1)\n",
    "y = data['price']"
   ]
  },
  {
   "cell_type": "markdown",
   "metadata": {},
   "source": [
    "Se utiliza un 80% de los datos para el entrenamiento y el 20% restante para las pruebas:"
   ]
  },
  {
   "cell_type": "code",
   "execution_count": 16,
   "metadata": {},
   "outputs": [],
   "source": [
    "x_train, x_test, y_train, y_test = train_test_split(x, y, test_size=0.2, random_state=0)"
   ]
  },
  {
   "cell_type": "markdown",
   "metadata": {},
   "source": [
    "#### Entrenamiento"
   ]
  },
  {
   "cell_type": "code",
   "execution_count": 17,
   "metadata": {},
   "outputs": [],
   "source": [
    "reg_lineal = LinearRegression().fit(x_train, y_train)"
   ]
  },
  {
   "cell_type": "markdown",
   "metadata": {},
   "source": [
    "#### Evaluación"
   ]
  },
  {
   "cell_type": "markdown",
   "metadata": {},
   "source": [
    "Se calculan cuatro métricas para el modelo de regresión: el Error Cuadrático Medio (MSE), la Raíz del MSE (RMSE, tiene las mismas unidades de la variable objetivo), el Error Absoluto Medio (MAE) y el R<sup>2</sup>:"
   ]
  },
  {
   "cell_type": "code",
   "execution_count": 18,
   "metadata": {},
   "outputs": [
    {
     "name": "stdout",
     "output_type": "stream",
     "text": [
      "------Modelo de regresión lineal----\n",
      "MSE:  36993570334.340546\n",
      "RMSE:  192337.1267705238\n",
      "MAE:  122658.98005577651\n",
      "R2:  0.6889316995334018\n"
     ]
    }
   ],
   "source": [
    "y_pred = reg_lineal.predict(x_test)\n",
    "\n",
    "print('------Modelo de regresión lineal----')\n",
    "print(\"MSE: \", mean_squared_error(y_test, y_pred))\n",
    "print(\"RMSE: \", mean_squared_error(y_test, y_pred, squared=False))\n",
    "print(\"MAE: \", mean_absolute_error(y_test, y_pred))\n",
    "print('R2: ', r2_score(y_test, y_pred))"
   ]
  },
  {
   "cell_type": "markdown",
   "metadata": {},
   "source": [
    "### Modelo 2: Regresión Polinomial\n",
    "\n",
    "#### Transformación de variables\n",
    "\n",
    "Se verifica si el problema puede tener una relación polinomial entre variables independientes y variable objetivo. Se calculan los términos de un polinomio de grado 2 (se pueden probar otros grados, tratando el problema como una búsqueda de hiperparámetro):"
   ]
  },
  {
   "cell_type": "code",
   "execution_count": 19,
   "metadata": {},
   "outputs": [],
   "source": [
    "pf = PolynomialFeatures(degree=2)"
   ]
  },
  {
   "cell_type": "code",
   "execution_count": 20,
   "metadata": {},
   "outputs": [
    {
     "data": {
      "text/plain": [
       "(21613, 171)"
      ]
     },
     "execution_count": 20,
     "metadata": {},
     "output_type": "execute_result"
    }
   ],
   "source": [
    "x_pol = pf.fit_transform(x)\n",
    "x_pol.shape"
   ]
  },
  {
   "cell_type": "markdown",
   "metadata": {},
   "source": [
    "Se generan 171 términos que describen el polinomio."
   ]
  },
  {
   "cell_type": "markdown",
   "metadata": {},
   "source": [
    "#### Construcción de conjuntos de entrenamiento y test\n",
    "\n",
    "Se realiza una nueva separación de datos con el conjunto modificado:"
   ]
  },
  {
   "cell_type": "code",
   "execution_count": 21,
   "metadata": {},
   "outputs": [],
   "source": [
    "x_train_p, x_test_p, y_train_p, y_test_p = train_test_split(x_pol, y, test_size=0.2, random_state=0)"
   ]
  },
  {
   "cell_type": "markdown",
   "metadata": {},
   "source": [
    "#### Entrenamiento"
   ]
  },
  {
   "cell_type": "code",
   "execution_count": 22,
   "metadata": {},
   "outputs": [],
   "source": [
    "reg_polinomial = LinearRegression().fit(x_train_p, y_train_p)"
   ]
  },
  {
   "cell_type": "markdown",
   "metadata": {},
   "source": [
    "#### Evaluación\n",
    "\n",
    "El modelo de Regresión Polinomial presenta un mejor ajuste de los datos que el modelo de Regresión Lineal, comparando valores del R<sup>2</sup> (aumento de aproximadamente 0.1):"
   ]
  },
  {
   "cell_type": "code",
   "execution_count": 23,
   "metadata": {},
   "outputs": [
    {
     "name": "stdout",
     "output_type": "stream",
     "text": [
      "------ Modelo de regresión polinomial----\n",
      "MSE:  25255482136.004757\n",
      "RMSE:  158919.7348852708\n",
      "MAE:  101201.0651067114\n",
      "R2:  0.7876339095007879\n"
     ]
    }
   ],
   "source": [
    "y_pred_p = reg_polinomial.predict(x_test_p)\n",
    "\n",
    "print('------ Modelo de regresión polinomial----')\n",
    "print(\"MSE: \", mean_squared_error(y_test_p, y_pred_p))\n",
    "print(\"RMSE: \", mean_squared_error(y_test_p, y_pred_p, squared=False))\n",
    "print(\"MAE: \", mean_absolute_error(y_test_p, y_pred_p))\n",
    "print('R2: ', r2_score(y_test_p, y_pred_p))"
   ]
  },
  {
   "cell_type": "markdown",
   "metadata": {},
   "source": [
    "### Modelo 3: Perceptrón multicapa\n",
    "\n",
    "#### Entrenamiento\n",
    "\n",
    "Se crea un perceptrón multicapa para evaluar una posible relación no lineal entre las variables. Se determinan 5 capas ocultas, aunque se puede modificar la cantidad de capas y la cantidad de neuronas por capa haciendo una búsqueda de hiperparámetros:"
   ]
  },
  {
   "cell_type": "code",
   "execution_count": 24,
   "metadata": {},
   "outputs": [],
   "source": [
    "perceptron = MLPRegressor(hidden_layer_sizes=[128, 64, 32, 16, 8],max_iter=1000).fit(x_train, y_train)"
   ]
  },
  {
   "cell_type": "markdown",
   "metadata": {},
   "source": [
    "#### Evaluación\n",
    "\n",
    "El perceptrón con estas características no presenta un mejor ajuste con respecto al modelo de Regresión Polinomial."
   ]
  },
  {
   "cell_type": "code",
   "execution_count": 25,
   "metadata": {},
   "outputs": [
    {
     "name": "stdout",
     "output_type": "stream",
     "text": [
      "------Perceptrón multicapa----\n",
      "MSE:  44949284606.03343\n",
      "RMSE:  212012.46332712006\n",
      "MAE:  141134.3648818487\n",
      "R2:  0.6220343848074406\n"
     ]
    }
   ],
   "source": [
    "y_pred_mlp = perceptron.predict(x_test)\n",
    "\n",
    "print('------Perceptrón multicapa----')\n",
    "print(\"MSE: \", mean_squared_error(y_test, y_pred_mlp))\n",
    "print(\"RMSE: \", mean_squared_error(y_test, y_pred_mlp, squared=False))\n",
    "print(\"MAE: \", mean_absolute_error(y_test, y_pred_mlp))\n",
    "print('R2: ', r2_score(y_test, y_pred_mlp))"
   ]
  },
  {
   "cell_type": "markdown",
   "metadata": {},
   "source": [
    "### Conclusión\n",
    "\n",
    "El modelo que mejor se ajusta a los datos es el de Regresión Polinomial. Se podría hacer una búsqueda más exhaustiva de arquitecturas para el Perceptrón o para el grado del polinomio en el modelo de Regresión Polinomial."
   ]
  },
  {
   "cell_type": "markdown",
   "metadata": {},
   "source": [
    "<h4> Tercera Parte: Capacidades en SQL </h4>\n",
    "\n",
    "Resuelve las siguientes preguntas a través de una consulta SQL, La base de datos que usaremos como referencia, se encuentra en:\n",
    "https://www.w3schools.com/sql/trysql.asp?filename=trysql_select_all\n",
    "Allí también podrás encontrar un sandbox para realizar las consultas de una manera sencilla.\n",
    "\n",
    "\n",
    "- Cuales son las categorias de productos que mas han vendido y cuanto han vendido en precio y cantidad.\n",
    "- Cuantas unidades y dinero de cada producto ha vendido cada empleado \n",
    "- Cual es el producto más vendido por cada empleado. \n",
    "\n",
    "El orden,buenas prácticas y presentación de las consultas también cuenta. Asegurate de colocarlas en el notebook para que las podamos revisar."
   ]
  },
  {
   "cell_type": "markdown",
   "metadata": {},
   "source": [
    "### Cuales son las categorias de productos que mas han vendido y cuanto han vendido en precio y cantidad."
   ]
  },
  {
   "cell_type": "code",
   "execution_count": null,
   "metadata": {},
   "outputs": [],
   "source": [
    "SELECT cat.CategoryName AS Categoria,\n",
    "SUM(prod.Price) AS Total,\n",
    "SUM(ordet.Quantity) AS Cantidad\n",
    "\n",
    "FROM Categories AS cat\n",
    "INNER JOIN Products AS prod ON cat.CategoryID=prod.CategoryID\n",
    "INNER JOIN OrderDetails AS ordet ON ordet.ProductID=prod.ProductID\n",
    "\n",
    "GROUP BY Categoria\n",
    "ORDER BY Total DESC"
   ]
  },
  {
   "cell_type": "markdown",
   "metadata": {},
   "source": [
    "### Cuantas unidades y dinero de cada producto ha vendido cada empleado"
   ]
  },
  {
   "cell_type": "code",
   "execution_count": null,
   "metadata": {},
   "outputs": [],
   "source": [
    "SELECT emp.EmployeeID AS IDEmpleado,\n",
    "prod.ProductName AS Producto,\n",
    "SUM(prod.Price) AS Dinero,\n",
    "SUM(ordet.Quantity) AS Unidades\n",
    "\n",
    "FROM Employees AS emp\n",
    "INNER JOIN Orders AS ords ON ords.EmployeeID=emp.EmployeeID\n",
    "INNER JOIN OrderDetails AS ordet ON ordet.OrderID=ords.OrderID\n",
    "INNER JOIN Products AS prod ON ordet.ProductID=prod.ProductID\n",
    "\n",
    "GROUP BY Producto\n",
    "ORDER BY IDEmpleado ASC"
   ]
  },
  {
   "cell_type": "markdown",
   "metadata": {},
   "source": [
    "### Cual es el producto más vendido por cada empleado."
   ]
  },
  {
   "cell_type": "code",
   "execution_count": null,
   "metadata": {},
   "outputs": [],
   "source": [
    "SELECT IDEmpleado,\n",
    "Producto,\n",
    "MAX(Unidades) AS TotalVendido\n",
    "FROM(\n",
    "  SELECT emp.EmployeeID AS IDEmpleado,\n",
    "  prod.ProductName AS Producto,\n",
    "  SUM(ordet.Quantity) AS Unidades\n",
    "  FROM Employees AS emp\n",
    "  INNER JOIN Orders AS ords ON ords.EmployeeID=emp.EmployeeID\n",
    "  INNER JOIN OrderDetails AS ordet ON ordet.OrderID=ords.OrderID\n",
    "  INNER JOIN Products AS prod ON ordet.ProductID=prod.ProductID\n",
    "  GROUP BY Producto\n",
    ")\n",
    "GROUP BY IDEmpleado"
   ]
  }
 ],
 "metadata": {
  "kernelspec": {
   "display_name": "Python 3",
   "language": "python",
   "name": "python3"
  },
  "language_info": {
   "codemirror_mode": {
    "name": "ipython",
    "version": 3
   },
   "file_extension": ".py",
   "mimetype": "text/x-python",
   "name": "python",
   "nbconvert_exporter": "python",
   "pygments_lexer": "ipython3",
   "version": "3.8.2"
  }
 },
 "nbformat": 4,
 "nbformat_minor": 5
}
